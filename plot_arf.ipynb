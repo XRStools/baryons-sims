{
 "cells": [
  {
   "cell_type": "code",
   "execution_count": null,
   "metadata": {
    "collapsed": false,
    "deletable": true,
    "editable": true
   },
   "outputs": [],
   "source": [
    "%matplotlib inline\n",
    "import matplotlib\n",
    "matplotlib.rc(\"font\", size=18)\n",
    "import matplotlib.pyplot as plt\n",
    "import soxs"
   ]
  },
  {
   "cell_type": "code",
   "execution_count": null,
   "metadata": {
    "collapsed": true,
    "deletable": true,
    "editable": true
   },
   "outputs": [],
   "source": [
    "hdxi_arf = soxs.AuxiliaryResponseFile(\"xrs_hdxi_3x10.arf\")\n",
    "mucal_arf = soxs.AuxiliaryResponseFile(\"xrs_mucal_3x10.arf\")"
   ]
  },
  {
   "cell_type": "code",
   "execution_count": null,
   "metadata": {
    "collapsed": false,
    "deletable": true,
    "editable": true
   },
   "outputs": [],
   "source": [
    "plt.figure(figsize=(10,10))\n",
    "plt.loglog(hdxi_arf.emid, hdxi_arf.eff_area, label=\"HDXI\")\n",
    "plt.loglog(mucal_arf.emid, mucal_arf.eff_area, label=\"$\\mathrm{\\mu-cal}$\")\n",
    "plt.xlabel(\"E (keV)\")\n",
    "plt.ylabel(\"$\\mathrm{A\\ (cm^2)}$\")\n",
    "plt.legend()"
   ]
  }
 ],
 "metadata": {
  "kernelspec": {
   "display_name": "Python [default]",
   "language": "python",
   "name": "python3"
  },
  "language_info": {
   "codemirror_mode": {
    "name": "ipython",
    "version": 3
   },
   "file_extension": ".py",
   "mimetype": "text/x-python",
   "name": "python",
   "nbconvert_exporter": "python",
   "pygments_lexer": "ipython3",
   "version": "3.6.1"
  }
 },
 "nbformat": 4,
 "nbformat_minor": 2
}
