{
 "cells": [
  {
   "cell_type": "code",
   "execution_count": null,
   "metadata": {
    "collapsed": false,
    "deletable": true,
    "editable": true
   },
   "outputs": [],
   "source": [
    "%matplotlib inline\n",
    "import matplotlib\n",
    "matplotlib.rc(\"font\", size=18)\n",
    "import matplotlib.pyplot as plt\n",
    "import yt\n",
    "import numpy as np\n",
    "from yt.units import kboltz, mp"
   ]
  },
  {
   "cell_type": "code",
   "execution_count": null,
   "metadata": {
    "collapsed": false,
    "deletable": true,
    "editable": true
   },
   "outputs": [],
   "source": [
    "X_H = 0.76 # hydrogen mass fraction"
   ]
  },
  {
   "cell_type": "markdown",
   "metadata": {
    "deletable": true,
    "editable": true
   },
   "source": [
    "Later we will make a cut on particles with kT > 30 eV, so figure out what the corresponding temperature in Kelvin is:"
   ]
  },
  {
   "cell_type": "code",
   "execution_count": null,
   "metadata": {
    "collapsed": true,
    "deletable": true,
    "editable": true
   },
   "outputs": [],
   "source": [
    "kT_low = yt.YTQuantity(0.03, \"keV\") # 30 eV\n",
    "T_low = float(kT_low.to_equivalent(\"K\", \"thermal\"))"
   ]
  },
  {
   "cell_type": "markdown",
   "metadata": {
    "deletable": true,
    "editable": true
   },
   "source": [
    "Load up the dataset:"
   ]
  },
  {
   "cell_type": "code",
   "execution_count": null,
   "metadata": {
    "collapsed": false,
    "deletable": true,
    "editable": true
   },
   "outputs": [],
   "source": [
    "fn = \"my_dataset.h5\"\n",
    "ds = yt.load(fn)"
   ]
  },
  {
   "cell_type": "markdown",
   "metadata": {
    "deletable": true,
    "editable": true
   },
   "source": [
    "Here I'm assuming there's no electron number density field, so I use the `ElectronAbundance` field here to determine the electron number density:"
   ]
  },
  {
   "cell_type": "code",
   "execution_count": null,
   "metadata": {
    "collapsed": false,
    "deletable": true,
    "editable": true
   },
   "outputs": [],
   "source": [
    "def _n_e(field, data):\n",
    "    return data[\"PartType0\", \"Density\"]*data[\"PartType0\", \"ElectronAbundance\"]*X_H/mp\n",
    "ds.add_field((\"PartType0\", \"n_e\"), function=_n_e, units=\"cm**-3\", particle_type=True)"
   ]
  },
  {
   "cell_type": "markdown",
   "metadata": {
    "deletable": true,
    "editable": true
   },
   "source": [
    "Now that I have an electron density field I can set up an entropy field:"
   ]
  },
  {
   "cell_type": "code",
   "execution_count": null,
   "metadata": {
    "collapsed": true,
    "deletable": true,
    "editable": true
   },
   "outputs": [],
   "source": [
    "def _entropy(field, data):\n",
    "    return (kboltz*data[\"PartType0\", \"Temperature\"]).to(\"keV\")*data[\"PartType0\", \"n_e\"]**(-2./3.)\n",
    "ds.add_field((\"PartType0\", \"entropy\"), function=_entropy, units=\"keV*cm**2\", particle_type=True)"
   ]
  },
  {
   "cell_type": "markdown",
   "metadata": {
    "deletable": true,
    "editable": true
   },
   "source": [
    "Create a sphere, you can change the center and radius parameters as needed:"
   ]
  },
  {
   "cell_type": "code",
   "execution_count": null,
   "metadata": {
    "collapsed": true,
    "deletable": true,
    "editable": true
   },
   "outputs": [],
   "source": [
    "center = \"max\" # or something\n",
    "radius = (1.0, \"Mpc\") # or something\n",
    "sp = ds.sphere(center, radius)"
   ]
  },
  {
   "cell_type": "markdown",
   "metadata": {
    "deletable": true,
    "editable": true
   },
   "source": [
    "and now we can make a cut region where we cut out the particles with kT < 30 eV:"
   ]
  },
  {
   "cell_type": "code",
   "execution_count": null,
   "metadata": {
    "collapsed": true,
    "deletable": true,
    "editable": true
   },
   "outputs": [],
   "source": [
    "cr = sp.cut_region([\"obj['PartType0', 'Temperature'] > %s\" % T_low])"
   ]
  },
  {
   "cell_type": "markdown",
   "metadata": {
    "deletable": true,
    "editable": true
   },
   "source": [
    "These are the fields I want to profile:"
   ]
  },
  {
   "cell_type": "code",
   "execution_count": null,
   "metadata": {
    "collapsed": true,
    "deletable": true,
    "editable": true
   },
   "outputs": [],
   "source": [
    "fields = [(\"PartType0\", \"Density\"), \n",
    "          (\"PartType0\", \"Temperature\"), \n",
    "          (\"PartType0\", \"Metallicity\"), \n",
    "          (\"PartType0\", \"n_e\"),\n",
    "          (\"PartType0\", \"Entropy\")]"
   ]
  },
  {
   "cell_type": "markdown",
   "metadata": {
    "deletable": true,
    "editable": true
   },
   "source": [
    "and I'm going to set the radial extrema for each particle type and the units of various things:"
   ]
  },
  {
   "cell_type": "code",
   "execution_count": null,
   "metadata": {
    "collapsed": true,
    "deletable": true,
    "editable": true
   },
   "outputs": [],
   "source": [
    "dm_extrema = {(\"PartType1\", \"particle_radius\"): (2.0, 1000.0)}\n",
    "gas_extrema = {(\"PartType0\", \"particle_radius\"): (2.0, 1000.0)}\n",
    "star_extrema = {(\"PartType4\", \"particle_radius\"): (2.0, 1000.0)}\n",
    "dm_units = {(\"PartType1\", \"particle_radius\"): \"kpc\", \n",
    "            (\"PartType1\", \"particle_mass\"): \"Msun\"}\n",
    "gas_units = {(\"PartType0\", \"particle_radius\"): \"kpc\"}\n",
    "star_units = {(\"PartType4\", \"particle_radius\"): \"kpc\", \n",
    "              (\"PartType4\", \"particle_mass\"): \"Msun\"}"
   ]
  },
  {
   "cell_type": "markdown",
   "metadata": {
    "deletable": true,
    "editable": true
   },
   "source": [
    "I will make two profiles, one from the sphere itself and another from the part of the sphere that only has hot gas with kT > 30 eV:"
   ]
  },
  {
   "cell_type": "code",
   "execution_count": null,
   "metadata": {
    "collapsed": false,
    "deletable": true,
    "editable": true
   },
   "outputs": [],
   "source": [
    "ps = sp.profile((\"PartType0\", \"particle_radius\"), fields, extrema=gas_extrema,\n",
    "                logs={\"particle_radius\": True}, units=gas_units, n_bins=60, \n",
    "                weight_field=(\"PartType0\", 'particle_ones'))\n",
    "pc = cr.profile((\"PartType0\", \"particle_radius\"), fields, extrema=gas_extrema,\n",
    "                logs={\"particle_radius\": True}, units=gas_units, n_bins=60, \n",
    "                weight_field=(\"PartType0\", 'particle_ones'))"
   ]
  },
  {
   "cell_type": "markdown",
   "metadata": {
    "deletable": true,
    "editable": true
   },
   "source": [
    "Electron density plot:"
   ]
  },
  {
   "cell_type": "code",
   "execution_count": null,
   "metadata": {
    "collapsed": false,
    "deletable": true,
    "editable": true
   },
   "outputs": [],
   "source": [
    "fig = plt.figure(figsize=(10, 10))\n",
    "ax = fig.add_subplot(111)\n",
    "ax.plot(ps.x, ps[\"n_e\"], label='All Particles')\n",
    "ax.plot(pc.x, pc[\"n_e\"], label='Particles w/ kT > 30 eV')\n",
    "ax.set_xscale(\"log\")\n",
    "ax.set_yscale(\"log\")\n",
    "ax.set_xlabel(\"r (kpc)\")\n",
    "ax.set_ylabel(\"$\\mathrm{n_e\\ (cm^{-3})}$\")\n",
    "ax.legend()\n",
    "fig.savefig(\"halo_density.png\")"
   ]
  },
  {
   "cell_type": "markdown",
   "metadata": {
    "deletable": true,
    "editable": true
   },
   "source": [
    "Temperature plot:"
   ]
  },
  {
   "cell_type": "code",
   "execution_count": null,
   "metadata": {
    "collapsed": false,
    "deletable": true,
    "editable": true
   },
   "outputs": [],
   "source": [
    "fig = plt.figure(figsize=(10, 10))\n",
    "ax = fig.add_subplot(111)\n",
    "ax.plot(ps.x.to(\"kpc\"), (kboltz*ps[\"Temperature\"]).to(\"keV\"), label='All Particles')\n",
    "ax.plot(pc.x.to(\"kpc\"), (kboltz*pc[\"Temperature\"]).to(\"keV\"), label='Particles w/ kT > 30 eV')\n",
    "ax.set_xscale(\"log\")\n",
    "ax.set_xlabel(\"r (kpc)\")\n",
    "ax.set_ylabel(\"T (keV)\")\n",
    "ax.legend()\n",
    "fig.savefig(\"halo_kT.png\")"
   ]
  },
  {
   "cell_type": "markdown",
   "metadata": {
    "deletable": true,
    "editable": true
   },
   "source": [
    "Metallicity plot:"
   ]
  },
  {
   "cell_type": "code",
   "execution_count": null,
   "metadata": {
    "collapsed": false,
    "deletable": true,
    "editable": true
   },
   "outputs": [],
   "source": [
    "fig = plt.figure(figsize=(10, 10))\n",
    "ax = fig.add_subplot(111)\n",
    "ax.plot(ps.x.to(\"kpc\"), ps[\"metallicity\"], label='All Particles')\n",
    "ax.plot(pc.x.to(\"kpc\"), pc[\"metallicity\"], label='Particles w/ kT > 30 eV')\n",
    "ax.set_xscale('log')\n",
    "ax.set_xlabel(\"r (kpc)\")\n",
    "ax.set_ylabel(\"$\\mathrm{Z\\ (Z_\\odot)}$\")\n",
    "ax.legend()\n",
    "fig.savefig(\"halo_Z.png\")"
   ]
  },
  {
   "cell_type": "markdown",
   "metadata": {
    "deletable": true,
    "editable": true
   },
   "source": [
    "Entropy plot:"
   ]
  },
  {
   "cell_type": "code",
   "execution_count": null,
   "metadata": {
    "collapsed": false,
    "deletable": true,
    "editable": true
   },
   "outputs": [],
   "source": [
    "fig = plt.figure(figsize=(10, 10))\n",
    "ax = fig.add_subplot(111)\n",
    "ax.plot(ps.x.to(\"kpc\"), ps[\"entropy\"], label='All Particles')\n",
    "ax.plot(pc.x.to(\"kpc\"), pc[\"entropy\"], label='Particles w/ kT > 30 eV')\n",
    "ax.set_xscale('log')\n",
    "ax.set_xlabel(\"r (kpc)\")\n",
    "ax.set_ylabel(\"$\\mathrm{S\\ (keV\\ cm^2)}$\")\n",
    "ax.legend()\n",
    "fig.savefig(\"halo_entropy.png\")"
   ]
  },
  {
   "cell_type": "markdown",
   "metadata": {
    "deletable": true,
    "editable": true
   },
   "source": [
    "I now want to set the units of the gas particle mass to $M_\\odot$:"
   ]
  },
  {
   "cell_type": "code",
   "execution_count": null,
   "metadata": {
    "collapsed": true,
    "deletable": true,
    "editable": true
   },
   "outputs": [],
   "source": [
    "gas_units[\"PartType0\", \"particle_mass\"] = \"Msun\""
   ]
  },
  {
   "cell_type": "markdown",
   "metadata": {
    "deletable": true,
    "editable": true
   },
   "source": [
    "And I will now make accumulated mass profiles of gas, dark matter, and stars:"
   ]
  },
  {
   "cell_type": "code",
   "execution_count": null,
   "metadata": {
    "collapsed": true,
    "deletable": true,
    "editable": true
   },
   "outputs": [],
   "source": [
    "# DM\n",
    "pmd = sp.profile((\"PartType1\", \"particle_radius\"), [(\"PartType1\", \"particle_mass\")], \n",
    "                 extrema=dm_extrema, n_bins=128, weight_field=None, accumulation=True,\n",
    "                 units=dm_units)\n",
    "# Gas\n",
    "pmg = sp.profile((\"PartType0\", \"particle_radius\"), [(\"PartType0\", \"particle_mass\")], \n",
    "                 extrema=gas_extrema, n_bins=128, weight_field=None, accumulation=True,\n",
    "                 units=gas_units)\n",
    "# Stars\n",
    "pms = sp.profile((\"PartType4\", \"particle_radius\"), [(\"PartType4\", \"particle_mass\")], \n",
    "                 extrema=star_extrema, n_bins=128, weight_field=None, accumulation=True,\n",
    "                 units=star_units)"
   ]
  },
  {
   "cell_type": "markdown",
   "metadata": {
    "deletable": true,
    "editable": true
   },
   "source": [
    "And now I can make the mass plot:"
   ]
  },
  {
   "cell_type": "code",
   "execution_count": null,
   "metadata": {
    "collapsed": false,
    "deletable": true,
    "editable": true
   },
   "outputs": [],
   "source": [
    "fig = plt.figure(figsize=(10, 10))\n",
    "ax = fig.add_subplot(111)\n",
    "ax.plot(pmd.x, pmd[\"particle_mass\"]+pmg[\"particle_mass\"]+pms[\"particle_mass\"], \n",
    "        label='Total Mass')\n",
    "ax.plot(pmg.x, pmg[\"particle_mass\"], label='Gas Mass')\n",
    "ax.set_xscale('log')\n",
    "ax.set_yscale(\"log\")\n",
    "ax.set_xlabel(\"r (kpc)\")\n",
    "ax.set_ylabel(\"$\\mathrm{M\\ (M_\\odot)}$\")\n",
    "ax.legend()\n",
    "fig.savefig(\"halo_masses.png\")"
   ]
  }
 ],
 "metadata": {
  "kernelspec": {
   "display_name": "Python [default]",
   "language": "python",
   "name": "python3"
  },
  "language_info": {
   "codemirror_mode": {
    "name": "ipython",
    "version": 3
   },
   "file_extension": ".py",
   "mimetype": "text/x-python",
   "name": "python",
   "nbconvert_exporter": "python",
   "pygments_lexer": "ipython3",
   "version": "3.6.0"
  }
 },
 "nbformat": 4,
 "nbformat_minor": 2
}
